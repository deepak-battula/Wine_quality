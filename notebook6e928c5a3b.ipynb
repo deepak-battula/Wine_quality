{
 "cells": [
  {
   "cell_type": "code",
   "execution_count": 1,
   "id": "0613b2a6",
   "metadata": {
    "_cell_guid": "b1076dfc-b9ad-4769-8c92-a6c4dae69d19",
    "_uuid": "8f2839f25d086af736a60e9eeb907d3b93b6e0e5",
    "execution": {
     "iopub.execute_input": "2024-02-03T18:53:16.898161Z",
     "iopub.status.busy": "2024-02-03T18:53:16.897285Z",
     "iopub.status.idle": "2024-02-03T18:53:17.734321Z",
     "shell.execute_reply": "2024-02-03T18:53:17.733164Z"
    },
    "papermill": {
     "duration": 0.859243,
     "end_time": "2024-02-03T18:53:17.736837",
     "exception": false,
     "start_time": "2024-02-03T18:53:16.877594",
     "status": "completed"
    },
    "tags": []
   },
   "outputs": [
    {
     "name": "stdout",
     "output_type": "stream",
     "text": [
      "/kaggle/input/wine-quality/WineQT.csv\n",
      "/kaggle/input/wine-quality-dataset/WineQT.csv\n"
     ]
    }
   ],
   "source": [
    "# This Python 3 environment comes with many helpful analytics libraries installed\n",
    "# It is defined by the kaggle/python Docker image: https://github.com/kaggle/docker-python\n",
    "# For example, here's several helpful packages to load\n",
    "\n",
    "import numpy as np # linear algebra\n",
    "import pandas as pd # data processing, CSV file I/O (e.g. pd.read_csv)\n",
    "\n",
    "# Input data files are available in the read-only \"../input/\" directory\n",
    "# For example, running this (by clicking run or pressing Shift+Enter) will list all files under the input directory\n",
    "\n",
    "import os\n",
    "for dirname, _, filenames in os.walk('/kaggle/input'):\n",
    "    for filename in filenames:\n",
    "        print(os.path.join(dirname, filename))\n",
    "\n",
    "# You can write up to 20GB to the current directory (/kaggle/working/) that gets preserved as output when you create a version using \"Save & Run All\" \n",
    "# You can also write temporary files to /kaggle/temp/, but they won't be saved outside of the current session"
   ]
  },
  {
   "cell_type": "code",
   "execution_count": 2,
   "id": "c36ded53",
   "metadata": {
    "execution": {
     "iopub.execute_input": "2024-02-03T18:53:17.764450Z",
     "iopub.status.busy": "2024-02-03T18:53:17.763975Z",
     "iopub.status.idle": "2024-02-03T18:53:19.075988Z",
     "shell.execute_reply": "2024-02-03T18:53:19.075011Z"
    },
    "papermill": {
     "duration": 1.328592,
     "end_time": "2024-02-03T18:53:19.078518",
     "exception": false,
     "start_time": "2024-02-03T18:53:17.749926",
     "status": "completed"
    },
    "tags": []
   },
   "outputs": [],
   "source": [
    "import numpy as np\n",
    "import pandas as pd\n",
    "import matplotlib.pyplot as plt\n",
    "import seaborn as sb\n",
    "import warnings\n",
    "warnings.filterwarnings('ignore')"
   ]
  },
  {
   "cell_type": "markdown",
   "id": "ce9a2069",
   "metadata": {
    "papermill": {
     "duration": 0.012529,
     "end_time": "2024-02-03T18:53:19.103899",
     "exception": false,
     "start_time": "2024-02-03T18:53:19.091370",
     "status": "completed"
    },
    "tags": []
   },
   "source": [
    "# Importing Dataset"
   ]
  },
  {
   "cell_type": "code",
   "execution_count": 3,
   "id": "ef9a45a2",
   "metadata": {
    "execution": {
     "iopub.execute_input": "2024-02-03T18:53:19.132526Z",
     "iopub.status.busy": "2024-02-03T18:53:19.132141Z",
     "iopub.status.idle": "2024-02-03T18:53:19.154289Z",
     "shell.execute_reply": "2024-02-03T18:53:19.153195Z"
    },
    "papermill": {
     "duration": 0.038869,
     "end_time": "2024-02-03T18:53:19.156802",
     "exception": false,
     "start_time": "2024-02-03T18:53:19.117933",
     "status": "completed"
    },
    "tags": []
   },
   "outputs": [],
   "source": [
    "df=pd.read_csv('/kaggle/input/wine-quality/WineQT.csv')"
   ]
  },
  {
   "cell_type": "markdown",
   "id": "abbf1e93",
   "metadata": {
    "papermill": {
     "duration": 0.012455,
     "end_time": "2024-02-03T18:53:19.182210",
     "exception": false,
     "start_time": "2024-02-03T18:53:19.169755",
     "status": "completed"
    },
    "tags": []
   },
   "source": [
    "# Data Cleaning"
   ]
  },
  {
   "cell_type": "code",
   "execution_count": 4,
   "id": "76734a16",
   "metadata": {
    "execution": {
     "iopub.execute_input": "2024-02-03T18:53:19.210159Z",
     "iopub.status.busy": "2024-02-03T18:53:19.209473Z",
     "iopub.status.idle": "2024-02-03T18:53:19.234289Z",
     "shell.execute_reply": "2024-02-03T18:53:19.233331Z"
    },
    "papermill": {
     "duration": 0.041011,
     "end_time": "2024-02-03T18:53:19.236458",
     "exception": false,
     "start_time": "2024-02-03T18:53:19.195447",
     "status": "completed"
    },
    "tags": []
   },
   "outputs": [
    {
     "data": {
      "text/html": [
       "<div>\n",
       "<style scoped>\n",
       "    .dataframe tbody tr th:only-of-type {\n",
       "        vertical-align: middle;\n",
       "    }\n",
       "\n",
       "    .dataframe tbody tr th {\n",
       "        vertical-align: top;\n",
       "    }\n",
       "\n",
       "    .dataframe thead th {\n",
       "        text-align: right;\n",
       "    }\n",
       "</style>\n",
       "<table border=\"1\" class=\"dataframe\">\n",
       "  <thead>\n",
       "    <tr style=\"text-align: right;\">\n",
       "      <th></th>\n",
       "      <th>fixed acidity</th>\n",
       "      <th>volatile acidity</th>\n",
       "      <th>citric acid</th>\n",
       "      <th>residual sugar</th>\n",
       "      <th>chlorides</th>\n",
       "      <th>free sulfur dioxide</th>\n",
       "      <th>total sulfur dioxide</th>\n",
       "      <th>density</th>\n",
       "      <th>pH</th>\n",
       "      <th>sulphates</th>\n",
       "      <th>alcohol</th>\n",
       "      <th>quality</th>\n",
       "      <th>Id</th>\n",
       "    </tr>\n",
       "  </thead>\n",
       "  <tbody>\n",
       "    <tr>\n",
       "      <th>0</th>\n",
       "      <td>7.4</td>\n",
       "      <td>0.70</td>\n",
       "      <td>0.00</td>\n",
       "      <td>1.9</td>\n",
       "      <td>0.076</td>\n",
       "      <td>11.0</td>\n",
       "      <td>34.0</td>\n",
       "      <td>0.9978</td>\n",
       "      <td>3.51</td>\n",
       "      <td>0.56</td>\n",
       "      <td>9.4</td>\n",
       "      <td>5</td>\n",
       "      <td>0</td>\n",
       "    </tr>\n",
       "    <tr>\n",
       "      <th>1</th>\n",
       "      <td>7.8</td>\n",
       "      <td>0.88</td>\n",
       "      <td>0.00</td>\n",
       "      <td>2.6</td>\n",
       "      <td>0.098</td>\n",
       "      <td>25.0</td>\n",
       "      <td>67.0</td>\n",
       "      <td>0.9968</td>\n",
       "      <td>3.20</td>\n",
       "      <td>0.68</td>\n",
       "      <td>9.8</td>\n",
       "      <td>5</td>\n",
       "      <td>1</td>\n",
       "    </tr>\n",
       "    <tr>\n",
       "      <th>2</th>\n",
       "      <td>7.8</td>\n",
       "      <td>0.76</td>\n",
       "      <td>0.04</td>\n",
       "      <td>2.3</td>\n",
       "      <td>0.092</td>\n",
       "      <td>15.0</td>\n",
       "      <td>54.0</td>\n",
       "      <td>0.9970</td>\n",
       "      <td>3.26</td>\n",
       "      <td>0.65</td>\n",
       "      <td>9.8</td>\n",
       "      <td>5</td>\n",
       "      <td>2</td>\n",
       "    </tr>\n",
       "    <tr>\n",
       "      <th>3</th>\n",
       "      <td>11.2</td>\n",
       "      <td>0.28</td>\n",
       "      <td>0.56</td>\n",
       "      <td>1.9</td>\n",
       "      <td>0.075</td>\n",
       "      <td>17.0</td>\n",
       "      <td>60.0</td>\n",
       "      <td>0.9980</td>\n",
       "      <td>3.16</td>\n",
       "      <td>0.58</td>\n",
       "      <td>9.8</td>\n",
       "      <td>6</td>\n",
       "      <td>3</td>\n",
       "    </tr>\n",
       "    <tr>\n",
       "      <th>4</th>\n",
       "      <td>7.4</td>\n",
       "      <td>0.70</td>\n",
       "      <td>0.00</td>\n",
       "      <td>1.9</td>\n",
       "      <td>0.076</td>\n",
       "      <td>11.0</td>\n",
       "      <td>34.0</td>\n",
       "      <td>0.9978</td>\n",
       "      <td>3.51</td>\n",
       "      <td>0.56</td>\n",
       "      <td>9.4</td>\n",
       "      <td>5</td>\n",
       "      <td>4</td>\n",
       "    </tr>\n",
       "  </tbody>\n",
       "</table>\n",
       "</div>"
      ],
      "text/plain": [
       "   fixed acidity  volatile acidity  citric acid  residual sugar  chlorides  \\\n",
       "0            7.4              0.70         0.00             1.9      0.076   \n",
       "1            7.8              0.88         0.00             2.6      0.098   \n",
       "2            7.8              0.76         0.04             2.3      0.092   \n",
       "3           11.2              0.28         0.56             1.9      0.075   \n",
       "4            7.4              0.70         0.00             1.9      0.076   \n",
       "\n",
       "   free sulfur dioxide  total sulfur dioxide  density    pH  sulphates  \\\n",
       "0                 11.0                  34.0   0.9978  3.51       0.56   \n",
       "1                 25.0                  67.0   0.9968  3.20       0.68   \n",
       "2                 15.0                  54.0   0.9970  3.26       0.65   \n",
       "3                 17.0                  60.0   0.9980  3.16       0.58   \n",
       "4                 11.0                  34.0   0.9978  3.51       0.56   \n",
       "\n",
       "   alcohol  quality  Id  \n",
       "0      9.4        5   0  \n",
       "1      9.8        5   1  \n",
       "2      9.8        5   2  \n",
       "3      9.8        6   3  \n",
       "4      9.4        5   4  "
      ]
     },
     "execution_count": 4,
     "metadata": {},
     "output_type": "execute_result"
    }
   ],
   "source": [
    "# Display the first 5 rows  of dataframe df\n",
    "df.head()"
   ]
  },
  {
   "cell_type": "code",
   "execution_count": 5,
   "id": "5ed768fb",
   "metadata": {
    "execution": {
     "iopub.execute_input": "2024-02-03T18:53:19.264375Z",
     "iopub.status.busy": "2024-02-03T18:53:19.263984Z",
     "iopub.status.idle": "2024-02-03T18:53:19.275567Z",
     "shell.execute_reply": "2024-02-03T18:53:19.274812Z"
    },
    "papermill": {
     "duration": 0.027879,
     "end_time": "2024-02-03T18:53:19.277454",
     "exception": false,
     "start_time": "2024-02-03T18:53:19.249575",
     "status": "completed"
    },
    "tags": []
   },
   "outputs": [],
   "source": [
    "# Dropping id column\n",
    "df = df.drop(columns=['Id'])"
   ]
  },
  {
   "cell_type": "code",
   "execution_count": 6,
   "id": "bedeebaa",
   "metadata": {
    "execution": {
     "iopub.execute_input": "2024-02-03T18:53:19.306640Z",
     "iopub.status.busy": "2024-02-03T18:53:19.305950Z",
     "iopub.status.idle": "2024-02-03T18:53:19.322621Z",
     "shell.execute_reply": "2024-02-03T18:53:19.321778Z"
    },
    "papermill": {
     "duration": 0.033336,
     "end_time": "2024-02-03T18:53:19.324536",
     "exception": false,
     "start_time": "2024-02-03T18:53:19.291200",
     "status": "completed"
    },
    "tags": []
   },
   "outputs": [
    {
     "data": {
      "text/html": [
       "<div>\n",
       "<style scoped>\n",
       "    .dataframe tbody tr th:only-of-type {\n",
       "        vertical-align: middle;\n",
       "    }\n",
       "\n",
       "    .dataframe tbody tr th {\n",
       "        vertical-align: top;\n",
       "    }\n",
       "\n",
       "    .dataframe thead th {\n",
       "        text-align: right;\n",
       "    }\n",
       "</style>\n",
       "<table border=\"1\" class=\"dataframe\">\n",
       "  <thead>\n",
       "    <tr style=\"text-align: right;\">\n",
       "      <th></th>\n",
       "      <th>fixed acidity</th>\n",
       "      <th>volatile acidity</th>\n",
       "      <th>citric acid</th>\n",
       "      <th>residual sugar</th>\n",
       "      <th>chlorides</th>\n",
       "      <th>free sulfur dioxide</th>\n",
       "      <th>total sulfur dioxide</th>\n",
       "      <th>density</th>\n",
       "      <th>pH</th>\n",
       "      <th>sulphates</th>\n",
       "      <th>alcohol</th>\n",
       "      <th>quality</th>\n",
       "    </tr>\n",
       "  </thead>\n",
       "  <tbody>\n",
       "    <tr>\n",
       "      <th>0</th>\n",
       "      <td>7.4</td>\n",
       "      <td>0.70</td>\n",
       "      <td>0.00</td>\n",
       "      <td>1.9</td>\n",
       "      <td>0.076</td>\n",
       "      <td>11.0</td>\n",
       "      <td>34.0</td>\n",
       "      <td>0.9978</td>\n",
       "      <td>3.51</td>\n",
       "      <td>0.56</td>\n",
       "      <td>9.4</td>\n",
       "      <td>5</td>\n",
       "    </tr>\n",
       "    <tr>\n",
       "      <th>1</th>\n",
       "      <td>7.8</td>\n",
       "      <td>0.88</td>\n",
       "      <td>0.00</td>\n",
       "      <td>2.6</td>\n",
       "      <td>0.098</td>\n",
       "      <td>25.0</td>\n",
       "      <td>67.0</td>\n",
       "      <td>0.9968</td>\n",
       "      <td>3.20</td>\n",
       "      <td>0.68</td>\n",
       "      <td>9.8</td>\n",
       "      <td>5</td>\n",
       "    </tr>\n",
       "    <tr>\n",
       "      <th>2</th>\n",
       "      <td>7.8</td>\n",
       "      <td>0.76</td>\n",
       "      <td>0.04</td>\n",
       "      <td>2.3</td>\n",
       "      <td>0.092</td>\n",
       "      <td>15.0</td>\n",
       "      <td>54.0</td>\n",
       "      <td>0.9970</td>\n",
       "      <td>3.26</td>\n",
       "      <td>0.65</td>\n",
       "      <td>9.8</td>\n",
       "      <td>5</td>\n",
       "    </tr>\n",
       "    <tr>\n",
       "      <th>3</th>\n",
       "      <td>11.2</td>\n",
       "      <td>0.28</td>\n",
       "      <td>0.56</td>\n",
       "      <td>1.9</td>\n",
       "      <td>0.075</td>\n",
       "      <td>17.0</td>\n",
       "      <td>60.0</td>\n",
       "      <td>0.9980</td>\n",
       "      <td>3.16</td>\n",
       "      <td>0.58</td>\n",
       "      <td>9.8</td>\n",
       "      <td>6</td>\n",
       "    </tr>\n",
       "    <tr>\n",
       "      <th>4</th>\n",
       "      <td>7.4</td>\n",
       "      <td>0.70</td>\n",
       "      <td>0.00</td>\n",
       "      <td>1.9</td>\n",
       "      <td>0.076</td>\n",
       "      <td>11.0</td>\n",
       "      <td>34.0</td>\n",
       "      <td>0.9978</td>\n",
       "      <td>3.51</td>\n",
       "      <td>0.56</td>\n",
       "      <td>9.4</td>\n",
       "      <td>5</td>\n",
       "    </tr>\n",
       "  </tbody>\n",
       "</table>\n",
       "</div>"
      ],
      "text/plain": [
       "   fixed acidity  volatile acidity  citric acid  residual sugar  chlorides  \\\n",
       "0            7.4              0.70         0.00             1.9      0.076   \n",
       "1            7.8              0.88         0.00             2.6      0.098   \n",
       "2            7.8              0.76         0.04             2.3      0.092   \n",
       "3           11.2              0.28         0.56             1.9      0.075   \n",
       "4            7.4              0.70         0.00             1.9      0.076   \n",
       "\n",
       "   free sulfur dioxide  total sulfur dioxide  density    pH  sulphates  \\\n",
       "0                 11.0                  34.0   0.9978  3.51       0.56   \n",
       "1                 25.0                  67.0   0.9968  3.20       0.68   \n",
       "2                 15.0                  54.0   0.9970  3.26       0.65   \n",
       "3                 17.0                  60.0   0.9980  3.16       0.58   \n",
       "4                 11.0                  34.0   0.9978  3.51       0.56   \n",
       "\n",
       "   alcohol  quality  \n",
       "0      9.4        5  \n",
       "1      9.8        5  \n",
       "2      9.8        5  \n",
       "3      9.8        6  \n",
       "4      9.4        5  "
      ]
     },
     "execution_count": 6,
     "metadata": {},
     "output_type": "execute_result"
    }
   ],
   "source": [
    "df.head()"
   ]
  },
  {
   "cell_type": "code",
   "execution_count": 7,
   "id": "283d29a4",
   "metadata": {
    "execution": {
     "iopub.execute_input": "2024-02-03T18:53:19.352952Z",
     "iopub.status.busy": "2024-02-03T18:53:19.351916Z",
     "iopub.status.idle": "2024-02-03T18:53:19.362897Z",
     "shell.execute_reply": "2024-02-03T18:53:19.361904Z"
    },
    "papermill": {
     "duration": 0.027377,
     "end_time": "2024-02-03T18:53:19.364950",
     "exception": false,
     "start_time": "2024-02-03T18:53:19.337573",
     "status": "completed"
    },
    "tags": []
   },
   "outputs": [
    {
     "data": {
      "text/plain": [
       "fixed acidity           0\n",
       "volatile acidity        0\n",
       "citric acid             0\n",
       "residual sugar          0\n",
       "chlorides               0\n",
       "free sulfur dioxide     0\n",
       "total sulfur dioxide    0\n",
       "density                 0\n",
       "pH                      0\n",
       "sulphates               0\n",
       "alcohol                 0\n",
       "quality                 0\n",
       "dtype: int64"
      ]
     },
     "execution_count": 7,
     "metadata": {},
     "output_type": "execute_result"
    }
   ],
   "source": [
    "#Returning the number of missing values in each column of df\n",
    "df.isnull().sum()"
   ]
  },
  {
   "cell_type": "markdown",
   "id": "86d5bd4e",
   "metadata": {
    "papermill": {
     "duration": 0.013074,
     "end_time": "2024-02-03T18:53:19.391463",
     "exception": false,
     "start_time": "2024-02-03T18:53:19.378389",
     "status": "completed"
    },
    "tags": []
   },
   "source": [
    "# Data Exploration"
   ]
  },
  {
   "cell_type": "code",
   "execution_count": 8,
   "id": "d3c0f307",
   "metadata": {
    "execution": {
     "iopub.execute_input": "2024-02-03T18:53:19.420281Z",
     "iopub.status.busy": "2024-02-03T18:53:19.419173Z",
     "iopub.status.idle": "2024-02-03T18:53:20.434399Z",
     "shell.execute_reply": "2024-02-03T18:53:20.433504Z"
    },
    "papermill": {
     "duration": 1.03351,
     "end_time": "2024-02-03T18:53:20.438184",
     "exception": false,
     "start_time": "2024-02-03T18:53:19.404674",
     "status": "completed"
    },
    "tags": []
   },
   "outputs": [
    {
     "data": {
      "image/png": "[encoded data removed]",
      "text/plain": [
       "<Figure size 3000x2000 with 2 Axes>"
      ]
     },
     "metadata": {},
     "output_type": "display_data"
    }
   ],
   "source": [
    "#Correlation matrix to see correlation between features\n",
    "#Interested in correlation between quality and other features\n",
    "#Correlation matrix using seaborn heatmap function\n",
    "plt.figure(figsize=(30,20))\n",
    "corr=df.corr()\n",
    "sb.heatmap(corr,annot=True,cmap=sb.diverging_palette(200,10,as_cmap=True))\n",
    "plt.show()"
   ]
  },
  {
   "cell_type": "code",
   "execution_count": 9,
   "id": "0ffdfdb5",
   "metadata": {
    "execution": {
     "iopub.execute_input": "2024-02-03T18:53:20.472378Z",
     "iopub.status.busy": "2024-02-03T18:53:20.471799Z",
     "iopub.status.idle": "2024-02-03T18:53:20.475555Z",
     "shell.execute_reply": "2024-02-03T18:53:20.474861Z"
    },
    "papermill": {
     "duration": 0.023528,
     "end_time": "2024-02-03T18:53:20.477863",
     "exception": false,
     "start_time": "2024-02-03T18:53:20.454335",
     "status": "completed"
    },
    "tags": []
   },
   "outputs": [],
   "source": [
    "#From graph we can see that alcohol is strongly correlaated with quality and correlation is positive"
   ]
  },
  {
   "cell_type": "code",
   "execution_count": 10,
   "id": "2bbe2daa",
   "metadata": {
    "execution": {
     "iopub.execute_input": "2024-02-03T18:53:20.511976Z",
     "iopub.status.busy": "2024-02-03T18:53:20.511555Z",
     "iopub.status.idle": "2024-02-03T18:53:22.690558Z",
     "shell.execute_reply": "2024-02-03T18:53:22.689428Z"
    },
    "papermill": {
     "duration": 2.198889,
     "end_time": "2024-02-03T18:53:22.692904",
     "exception": false,
     "start_time": "2024-02-03T18:53:20.494015",
     "status": "completed"
    },
    "tags": []
   },
   "outputs": [
    {
     "data": {
      "image/png": "[encoded data removed]",
      "text/plain": [
       "<Figure size 640x480 with 1 Axes>"
      ]
     },
     "metadata": {},
     "output_type": "display_data"
    }
   ],
   "source": [
    "# Alcohol levels for wines for different qualities using Matplotlib bar graph\n",
    "plt.bar(df['quality'],df['alcohol'])\n",
    "plt.title('Relationship between alcohol and quality')\n",
    "plt.xlabel('quantity')\n",
    "plt.ylabel('alcohol')\n",
    "plt.legend()\n",
    "plt.show()"
   ]
  },
  {
   "cell_type": "code",
   "execution_count": 11,
   "id": "582768ed",
   "metadata": {
    "execution": {
     "iopub.execute_input": "2024-02-03T18:53:22.728464Z",
     "iopub.status.busy": "2024-02-03T18:53:22.727313Z",
     "iopub.status.idle": "2024-02-03T18:53:22.732458Z",
     "shell.execute_reply": "2024-02-03T18:53:22.731659Z"
    },
    "papermill": {
     "duration": 0.025229,
     "end_time": "2024-02-03T18:53:22.734469",
     "exception": false,
     "start_time": "2024-02-03T18:53:22.709240",
     "status": "completed"
    },
    "tags": []
   },
   "outputs": [],
   "source": [
    "# Wines of lower quality tend to have lower level of alcohol. But it doesnt show casual relationship, so want to further know top 3 important properties that make good wine."
   ]
  },
  {
   "cell_type": "markdown",
   "id": "981fa088",
   "metadata": {
    "papermill": {
     "duration": 0.016223,
     "end_time": "2024-02-03T18:53:22.767355",
     "exception": false,
     "start_time": "2024-02-03T18:53:22.751132",
     "status": "completed"
    },
    "tags": []
   },
   "source": [
    "# Normalizing the Dataset"
   ]
  },
  {
   "cell_type": "code",
   "execution_count": 12,
   "id": "93829ce8",
   "metadata": {
    "execution": {
     "iopub.execute_input": "2024-02-03T18:53:22.803104Z",
     "iopub.status.busy": "2024-02-03T18:53:22.802077Z",
     "iopub.status.idle": "2024-02-03T18:53:22.964613Z",
     "shell.execute_reply": "2024-02-03T18:53:22.962838Z"
    },
    "papermill": {
     "duration": 0.183306,
     "end_time": "2024-02-03T18:53:22.967218",
     "exception": false,
     "start_time": "2024-02-03T18:53:22.783912",
     "status": "completed"
    },
    "tags": []
   },
   "outputs": [
    {
     "name": "stdout",
     "output_type": "stream",
     "text": [
      "   fixed acidity  volatile acidity  citric acid  residual sugar  chlorides  \\\n",
      "0       0.247788          0.397260         0.00        0.068493   0.106845   \n",
      "1       0.283186          0.520548         0.00        0.116438   0.143573   \n",
      "2       0.283186          0.438356         0.04        0.095890   0.133556   \n",
      "3       0.584071          0.109589         0.56        0.068493   0.105175   \n",
      "4       0.247788          0.397260         0.00        0.068493   0.106845   \n",
      "\n",
      "   free sulfur dioxide  total sulfur dioxide   density        pH  sulphates  \\\n",
      "0             0.149254              0.098940  0.567548  0.606299   0.137725   \n",
      "1             0.358209              0.215548  0.494126  0.362205   0.209581   \n",
      "2             0.208955              0.169611  0.508811  0.409449   0.191617   \n",
      "3             0.238806              0.190813  0.582232  0.330709   0.149701   \n",
      "4             0.149254              0.098940  0.567548  0.606299   0.137725   \n",
      "\n",
      "    alcohol  quality  \n",
      "0  0.153846      0.4  \n",
      "1  0.215385      0.4  \n",
      "2  0.215385      0.4  \n",
      "3  0.215385      0.6  \n",
      "4  0.153846      0.4  \n"
     ]
    }
   ],
   "source": [
    "# MinMaxScaler scales your data to a specified range, in this case between 0 and 1.\n",
    "from sklearn.preprocessing import MinMaxScaler\n",
    "scaler=MinMaxScaler(feature_range=(0,1))\n",
    "normal_df=scaler.fit_transform(df)\n",
    "normal_df=pd.DataFrame(normal_df,columns=df.columns)\n",
    "print(normal_df.head())"
   ]
  },
  {
   "cell_type": "markdown",
   "id": "3f3292ef",
   "metadata": {
    "papermill": {
     "duration": 0.016243,
     "end_time": "2024-02-03T18:53:23.000797",
     "exception": false,
     "start_time": "2024-02-03T18:53:22.984554",
     "status": "completed"
    },
    "tags": []
   },
   "source": [
    "# Adding New Column"
   ]
  },
  {
   "cell_type": "code",
   "execution_count": 13,
   "id": "fa7d2918",
   "metadata": {
    "execution": {
     "iopub.execute_input": "2024-02-03T18:53:23.036114Z",
     "iopub.status.busy": "2024-02-03T18:53:23.035731Z",
     "iopub.status.idle": "2024-02-03T18:53:23.041740Z",
     "shell.execute_reply": "2024-02-03T18:53:23.040566Z"
    },
    "papermill": {
     "duration": 0.026503,
     "end_time": "2024-02-03T18:53:23.043749",
     "exception": false,
     "start_time": "2024-02-03T18:53:23.017246",
     "status": "completed"
    },
    "tags": []
   },
   "outputs": [],
   "source": [
    "# Creating a new column good wine in df called good wine. It categorizes wines as yes if quality above 7 and no otherwise.\n",
    "df[\"good wine\"]=[\"yes\" if i>=7 else \"no\" for i in df['quality']]"
   ]
  },
  {
   "cell_type": "markdown",
   "id": "4fdfd99b",
   "metadata": {
    "papermill": {
     "duration": 0.016287,
     "end_time": "2024-02-03T18:53:23.076670",
     "exception": false,
     "start_time": "2024-02-03T18:53:23.060383",
     "status": "completed"
    },
    "tags": []
   },
   "source": [
    "# Identifying the Features and the Label"
   ]
  },
  {
   "cell_type": "code",
   "execution_count": 14,
   "id": "575f3131",
   "metadata": {
    "execution": {
     "iopub.execute_input": "2024-02-03T18:53:23.112583Z",
     "iopub.status.busy": "2024-02-03T18:53:23.111630Z",
     "iopub.status.idle": "2024-02-03T18:53:23.117909Z",
     "shell.execute_reply": "2024-02-03T18:53:23.117044Z"
    },
    "papermill": {
     "duration": 0.026105,
     "end_time": "2024-02-03T18:53:23.120004",
     "exception": false,
     "start_time": "2024-02-03T18:53:23.093899",
     "status": "completed"
    },
    "tags": []
   },
   "outputs": [],
   "source": [
    "# Splitting features and label\n",
    "X=normal_df.drop([\"quality\"],axis=1)\n",
    "y=df[\"good wine\"]"
   ]
  },
  {
   "cell_type": "code",
   "execution_count": 15,
   "id": "2c765815",
   "metadata": {
    "execution": {
     "iopub.execute_input": "2024-02-03T18:53:23.155580Z",
     "iopub.status.busy": "2024-02-03T18:53:23.154906Z",
     "iopub.status.idle": "2024-02-03T18:53:23.165965Z",
     "shell.execute_reply": "2024-02-03T18:53:23.164873Z"
    },
    "papermill": {
     "duration": 0.031159,
     "end_time": "2024-02-03T18:53:23.168130",
     "exception": false,
     "start_time": "2024-02-03T18:53:23.136971",
     "status": "completed"
    },
    "tags": []
   },
   "outputs": [
    {
     "data": {
      "text/plain": [
       "good wine\n",
       "no     984\n",
       "yes    159\n",
       "Name: count, dtype: int64"
      ]
     },
     "execution_count": 15,
     "metadata": {},
     "output_type": "execute_result"
    }
   ],
   "source": [
    "#Return the count of unique values in your y Series\n",
    "y.value_counts()"
   ]
  },
  {
   "cell_type": "code",
   "execution_count": 16,
   "id": "52021d6c",
   "metadata": {
    "execution": {
     "iopub.execute_input": "2024-02-03T18:53:23.259501Z",
     "iopub.status.busy": "2024-02-03T18:53:23.259095Z",
     "iopub.status.idle": "2024-02-03T18:53:23.378936Z",
     "shell.execute_reply": "2024-02-03T18:53:23.377786Z"
    },
    "papermill": {
     "duration": 0.196646,
     "end_time": "2024-02-03T18:53:23.381570",
     "exception": false,
     "start_time": "2024-02-03T18:53:23.184924",
     "status": "completed"
    },
    "tags": []
   },
   "outputs": [
    {
     "data": {
      "image/png": "[encoded data removed]",
      "text/plain": [
       "<Figure size 640x480 with 1 Axes>"
      ]
     },
     "metadata": {},
     "output_type": "display_data"
    }
   ],
   "source": [
    "# Visualize the counts using Matplotlib bar graph\n",
    "counts = y.value_counts()\n",
    "plt.bar(counts.index, counts.values)\n",
    "plt.show()"
   ]
  },
  {
   "cell_type": "markdown",
   "id": "dde052aa",
   "metadata": {
    "papermill": {
     "duration": 0.016996,
     "end_time": "2024-02-03T18:53:23.416044",
     "exception": false,
     "start_time": "2024-02-03T18:53:23.399048",
     "status": "completed"
    },
    "tags": []
   },
   "source": [
    "# Train and test Splitting (Modeling)"
   ]
  },
  {
   "cell_type": "code",
   "execution_count": 17,
   "id": "b0c89820",
   "metadata": {
    "execution": {
     "iopub.execute_input": "2024-02-03T18:53:23.452496Z",
     "iopub.status.busy": "2024-02-03T18:53:23.452114Z",
     "iopub.status.idle": "2024-02-03T18:53:23.557840Z",
     "shell.execute_reply": "2024-02-03T18:53:23.556656Z"
    },
    "papermill": {
     "duration": 0.12691,
     "end_time": "2024-02-03T18:53:23.560348",
     "exception": false,
     "start_time": "2024-02-03T18:53:23.433438",
     "status": "completed"
    },
    "tags": []
   },
   "outputs": [],
   "source": [
    "from sklearn.model_selection import train_test_split\n",
    "X_train, X_test, y_train, y_test = train_test_split(X, y, test_size=0.3, random_state=2020, stratify=y)"
   ]
  },
  {
   "cell_type": "markdown",
   "id": "c1891816",
   "metadata": {
    "papermill": {
     "duration": 0.016726,
     "end_time": "2024-02-03T18:53:23.594519",
     "exception": false,
     "start_time": "2024-02-03T18:53:23.577793",
     "status": "completed"
    },
    "tags": []
   },
   "source": [
    "# Baseline Classification"
   ]
  },
  {
   "cell_type": "code",
   "execution_count": 18,
   "id": "ec8f9522",
   "metadata": {
    "execution": {
     "iopub.execute_input": "2024-02-03T18:53:23.630205Z",
     "iopub.status.busy": "2024-02-03T18:53:23.629810Z",
     "iopub.status.idle": "2024-02-03T18:53:23.640531Z",
     "shell.execute_reply": "2024-02-03T18:53:23.639607Z"
    },
    "papermill": {
     "duration": 0.031052,
     "end_time": "2024-02-03T18:53:23.642510",
     "exception": false,
     "start_time": "2024-02-03T18:53:23.611458",
     "status": "completed"
    },
    "tags": []
   },
   "outputs": [
    {
     "name": "stdout",
     "output_type": "stream",
     "text": [
      "Baseline Accuracy =  0.8600583090379009\n"
     ]
    }
   ],
   "source": [
    "# Baseline to serve as benchmark for future comparisons\n",
    "from sklearn.dummy import DummyClassifier\n",
    "dummy_classifier = DummyClassifier(strategy='most_frequent',random_state=2020)\n",
    "dummy_classifier.fit(X_train,y_train)\n",
    "acc_baseline = dummy_classifier.score(X_test,y_test)\n",
    "print(\"Baseline Accuracy = \", acc_baseline)"
   ]
  },
  {
   "cell_type": "markdown",
   "id": "f22786e1",
   "metadata": {
    "papermill": {
     "duration": 0.017128,
     "end_time": "2024-02-03T18:53:23.677492",
     "exception": false,
     "start_time": "2024-02-03T18:53:23.660364",
     "status": "completed"
    },
    "tags": []
   },
   "source": [
    "# Support Vector Classifier Model"
   ]
  },
  {
   "cell_type": "code",
   "execution_count": 19,
   "id": "72fe6081",
   "metadata": {
    "execution": {
     "iopub.execute_input": "2024-02-03T18:53:23.714324Z",
     "iopub.status.busy": "2024-02-03T18:53:23.713257Z",
     "iopub.status.idle": "2024-02-03T18:53:23.828319Z",
     "shell.execute_reply": "2024-02-03T18:53:23.827227Z"
    },
    "papermill": {
     "duration": 0.136746,
     "end_time": "2024-02-03T18:53:23.831458",
     "exception": false,
     "start_time": "2024-02-03T18:53:23.694712",
     "status": "completed"
    },
    "tags": []
   },
   "outputs": [
    {
     "data": {
      "text/html": [
       "<style>#sk-container-id-1 {color: black;background-color: white;}#sk-container-id-1 pre{padding: 0;}#sk-container-id-1 div.sk-toggleable {background-color: white;}#sk-container-id-1 label.sk-toggleable__label {cursor: pointer;display: block;width: 100%;margin-bottom: 0;padding: 0.3em;box-sizing: border-box;text-align: center;}#sk-container-id-1 label.sk-toggleable__label-arrow:before {content: \"▸\";float: left;margin-right: 0.25em;color: #696969;}#sk-container-id-1 label.sk-toggleable__label-arrow:hover:before {color: black;}#sk-container-id-1 div.sk-estimator:hover label.sk-toggleable__label-arrow:before {color: black;}#sk-container-id-1 div.sk-toggleable__content {max-height: 0;max-width: 0;overflow: hidden;text-align: left;background-color: #f0f8ff;}#sk-container-id-1 div.sk-toggleable__content pre {margin: 0.2em;color: black;border-radius: 0.25em;background-color: #f0f8ff;}#sk-container-id-1 input.sk-toggleable__control:checked~div.sk-toggleable__content {max-height: 200px;max-width: 100%;overflow: auto;}#sk-container-id-1 input.sk-toggleable__control:checked~label.sk-toggleable__label-arrow:before {content: \"▾\";}#sk-container-id-1 div.sk-estimator input.sk-toggleable__control:checked~label.sk-toggleable__label {background-color: #d4ebff;}#sk-container-id-1 div.sk-label input.sk-toggleable__control:checked~label.sk-toggleable__label {background-color: #d4ebff;}#sk-container-id-1 input.sk-hidden--visually {border: 0;clip: rect(1px 1px 1px 1px);clip: rect(1px, 1px, 1px, 1px);height: 1px;margin: -1px;overflow: hidden;padding: 0;position: absolute;width: 1px;}#sk-container-id-1 div.sk-estimator {font-family: monospace;background-color: #f0f8ff;border: 1px dotted black;border-radius: 0.25em;box-sizing: border-box;margin-bottom: 0.5em;}#sk-container-id-1 div.sk-estimator:hover {background-color: #d4ebff;}#sk-container-id-1 div.sk-parallel-item::after {content: \"\";width: 100%;border-bottom: 1px solid gray;flex-grow: 1;}#sk-container-id-1 div.sk-label:hover label.sk-toggleable__label {background-color: #d4ebff;}#sk-container-id-1 div.sk-serial::before {content: \"\";position: absolute;border-left: 1px solid gray;box-sizing: border-box;top: 0;bottom: 0;left: 50%;z-index: 0;}#sk-container-id-1 div.sk-serial {display: flex;flex-direction: column;align-items: center;background-color: white;padding-right: 0.2em;padding-left: 0.2em;position: relative;}#sk-container-id-1 div.sk-item {position: relative;z-index: 1;}#sk-container-id-1 div.sk-parallel {display: flex;align-items: stretch;justify-content: center;background-color: white;position: relative;}#sk-container-id-1 div.sk-item::before, #sk-container-id-1 div.sk-parallel-item::before {content: \"\";position: absolute;border-left: 1px solid gray;box-sizing: border-box;top: 0;bottom: 0;left: 50%;z-index: -1;}#sk-container-id-1 div.sk-parallel-item {display: flex;flex-direction: column;z-index: 1;position: relative;background-color: white;}#sk-container-id-1 div.sk-parallel-item:first-child::after {align-self: flex-end;width: 50%;}#sk-container-id-1 div.sk-parallel-item:last-child::after {align-self: flex-start;width: 50%;}#sk-container-id-1 div.sk-parallel-item:only-child::after {width: 0;}#sk-container-id-1 div.sk-dashed-wrapped {border: 1px dashed gray;margin: 0 0.4em 0.5em 0.4em;box-sizing: border-box;padding-bottom: 0.4em;background-color: white;}#sk-container-id-1 div.sk-label label {font-family: monospace;font-weight: bold;display: inline-block;line-height: 1.2em;}#sk-container-id-1 div.sk-label-container {text-align: center;}#sk-container-id-1 div.sk-container {/* jupyter's `normalize.less` sets `[hidden] { display: none; }` but bootstrap.min.css set `[hidden] { display: none !important; }` so we also need the `!important` here to be able to override the default hidden behavior on the sphinx rendered scikit-learn.org. See: https://github.com/scikit-learn/scikit-learn/issues/21755 */display: inline-block !important;position: relative;}#sk-container-id-1 div.sk-text-repr-fallback {display: none;}</style><div id=\"sk-container-id-1\" class=\"sk-top-container\"><div class=\"sk-text-repr-fallback\"><pre>SVC(random_state=2020)</pre><b>In a Jupyter environment, please rerun this cell to show the HTML representation or trust the notebook. <br />On GitHub, the HTML representation is unable to render, please try loading this page with nbviewer.org.</b></div><div class=\"sk-container\" hidden><div class=\"sk-item\"><div class=\"sk-estimator sk-toggleable\"><input class=\"sk-toggleable__control sk-hidden--visually\" id=\"sk-estimator-id-1\" type=\"checkbox\" checked><label for=\"sk-estimator-id-1\" class=\"sk-toggleable__label sk-toggleable__label-arrow\">SVC</label><div class=\"sk-toggleable__content\"><pre>SVC(random_state=2020)</pre></div></div></div></div></div>"
      ],
      "text/plain": [
       "SVC(random_state=2020)"
      ]
     },
     "execution_count": 19,
     "metadata": {},
     "output_type": "execute_result"
    }
   ],
   "source": [
    "# Fit the training data to model \n",
    "from sklearn.svm import SVC\n",
    "s = SVC(random_state=2020)\n",
    "s.fit(X_train, y_train)"
   ]
  },
  {
   "cell_type": "code",
   "execution_count": 20,
   "id": "d6ba58ab",
   "metadata": {
    "execution": {
     "iopub.execute_input": "2024-02-03T18:53:23.876358Z",
     "iopub.status.busy": "2024-02-03T18:53:23.875937Z",
     "iopub.status.idle": "2024-02-03T18:53:23.890240Z",
     "shell.execute_reply": "2024-02-03T18:53:23.889426Z"
    },
    "papermill": {
     "duration": 0.039816,
     "end_time": "2024-02-03T18:53:23.893270",
     "exception": false,
     "start_time": "2024-02-03T18:53:23.853454",
     "status": "completed"
    },
    "tags": []
   },
   "outputs": [
    {
     "name": "stdout",
     "output_type": "stream",
     "text": [
      "0.880466472303207\n"
     ]
    }
   ],
   "source": [
    "# Predict and accuracy score\n",
    "from sklearn import metrics\n",
    "from sklearn.metrics import accuracy_score\n",
    "y_pred = s.predict(X_test)\n",
    "print(metrics.accuracy_score(y_test, y_pred))\n",
    "# SVM Accuracy =  0.880466472303207"
   ]
  },
  {
   "cell_type": "markdown",
   "id": "58418541",
   "metadata": {
    "papermill": {
     "duration": 0.023002,
     "end_time": "2024-02-03T18:53:23.937065",
     "exception": false,
     "start_time": "2024-02-03T18:53:23.914063",
     "status": "completed"
    },
    "tags": []
   },
   "source": [
    "# Check for Overfitting"
   ]
  },
  {
   "cell_type": "code",
   "execution_count": 21,
   "id": "2a0e0d12",
   "metadata": {
    "execution": {
     "iopub.execute_input": "2024-02-03T18:53:23.980705Z",
     "iopub.status.busy": "2024-02-03T18:53:23.980304Z",
     "iopub.status.idle": "2024-02-03T18:53:24.105425Z",
     "shell.execute_reply": "2024-02-03T18:53:24.104340Z"
    },
    "papermill": {
     "duration": 0.150277,
     "end_time": "2024-02-03T18:53:24.107840",
     "exception": false,
     "start_time": "2024-02-03T18:53:23.957563",
     "status": "completed"
    },
    "tags": []
   },
   "outputs": [
    {
     "name": "stdout",
     "output_type": "stream",
     "text": [
      "0.8634911514594347\n"
     ]
    }
   ],
   "source": [
    "# cross_val_score function to estimate the expected accuracy of the model on out-of-training data.\n",
    "from sklearn.model_selection import cross_val_score\n",
    "scores = cross_val_score(s, X, y, cv=5)\n",
    "print(scores.mean())\n",
    "# Cross validation score: 0.8634911514594347"
   ]
  },
  {
   "cell_type": "code",
   "execution_count": 22,
   "id": "5b8f7c54",
   "metadata": {
    "execution": {
     "iopub.execute_input": "2024-02-03T18:53:24.146055Z",
     "iopub.status.busy": "2024-02-03T18:53:24.145284Z",
     "iopub.status.idle": "2024-02-03T18:53:24.167299Z",
     "shell.execute_reply": "2024-02-03T18:53:24.166155Z"
    },
    "papermill": {
     "duration": 0.04409,
     "end_time": "2024-02-03T18:53:24.169611",
     "exception": false,
     "start_time": "2024-02-03T18:53:24.125521",
     "status": "completed"
    },
    "tags": []
   },
   "outputs": [
    {
     "name": "stdout",
     "output_type": "stream",
     "text": [
      "0.89125\n"
     ]
    }
   ],
   "source": [
    "# Accuracy score on training data\n",
    "y_pred_train = s.predict(X_train)\n",
    "print(metrics.accuracy_score(y_train, y_pred_train))\n",
    "# Training accuracy: 0.89125\n",
    "#Since the training accuracy (0.89) and the cross validation score (0.86) are close, we can conclude that no overfitting occurs."
   ]
  },
  {
   "cell_type": "code",
   "execution_count": 23,
   "id": "6289bce9",
   "metadata": {
    "execution": {
     "iopub.execute_input": "2024-02-03T18:53:24.209114Z",
     "iopub.status.busy": "2024-02-03T18:53:24.208706Z",
     "iopub.status.idle": "2024-02-03T18:53:24.926015Z",
     "shell.execute_reply": "2024-02-03T18:53:24.924185Z"
    },
    "papermill": {
     "duration": 0.741065,
     "end_time": "2024-02-03T18:53:24.928222",
     "exception": false,
     "start_time": "2024-02-03T18:53:24.187157",
     "status": "completed"
    },
    "tags": []
   },
   "outputs": [
    {
     "name": "stdout",
     "output_type": "stream",
     "text": [
      "{'C': 100}\n"
     ]
    }
   ],
   "source": [
    "# Tune the Model’s Parameters:\n",
    "from sklearn.model_selection import RandomizedSearchCV\n",
    "random_grid = {\"C\": [0.001,0.01,0.1,1,10,100,1000]}\n",
    "s_random = RandomizedSearchCV(s,random_grid,cv=5,random_state=2020)\n",
    "s_random.fit(X_train, y_train)\n",
    "print(s_random.best_params_)"
   ]
  },
  {
   "cell_type": "code",
   "execution_count": 24,
   "id": "256a5e12",
   "metadata": {
    "execution": {
     "iopub.execute_input": "2024-02-03T18:53:24.965597Z",
     "iopub.status.busy": "2024-02-03T18:53:24.964836Z",
     "iopub.status.idle": "2024-02-03T18:53:56.181809Z",
     "shell.execute_reply": "2024-02-03T18:53:56.180713Z"
    },
    "papermill": {
     "duration": 31.255559,
     "end_time": "2024-02-03T18:53:56.201220",
     "exception": false,
     "start_time": "2024-02-03T18:53:24.945661",
     "status": "completed"
    },
    "tags": []
   },
   "outputs": [
    {
     "name": "stdout",
     "output_type": "stream",
     "text": [
      "{'C': 120, 'kernel': 'rbf'}\n"
     ]
    }
   ],
   "source": [
    "# GridSearchCV to do exhaustive search to find the best parameters\n",
    "from sklearn.model_selection import GridSearchCV\n",
    "param_grid = {'C': [80, 90, 100, 110, 120],\n",
    "              'kernel': ['linear', 'rbf', 'poly']}\n",
    "s_cv = GridSearchCV(s, param_grid, cv=10)\n",
    "s_cv.fit(X_train, y_train)\n",
    "print(s_cv.best_params_)"
   ]
  },
  {
   "cell_type": "code",
   "execution_count": 25,
   "id": "5d364cbd",
   "metadata": {
    "execution": {
     "iopub.execute_input": "2024-02-03T18:53:56.238072Z",
     "iopub.status.busy": "2024-02-03T18:53:56.237449Z",
     "iopub.status.idle": "2024-02-03T18:53:56.280191Z",
     "shell.execute_reply": "2024-02-03T18:53:56.278891Z"
    },
    "papermill": {
     "duration": 0.064109,
     "end_time": "2024-02-03T18:53:56.282606",
     "exception": false,
     "start_time": "2024-02-03T18:53:56.218497",
     "status": "completed"
    },
    "tags": []
   },
   "outputs": [
    {
     "name": "stdout",
     "output_type": "stream",
     "text": [
      "0.8658892128279884\n"
     ]
    }
   ],
   "source": [
    "s_new = SVC(C = 120, kernel = \"rbf\", random_state = 2020)\n",
    "s_new.fit(X_train, y_train)\n",
    "y_pred_new = s_new.predict(X_test)\n",
    "print(metrics.accuracy_score(y_test, y_pred_new))"
   ]
  },
  {
   "cell_type": "code",
   "execution_count": 26,
   "id": "f3516337",
   "metadata": {
    "execution": {
     "iopub.execute_input": "2024-02-03T18:53:56.319881Z",
     "iopub.status.busy": "2024-02-03T18:53:56.319229Z",
     "iopub.status.idle": "2024-02-03T18:53:56.334508Z",
     "shell.execute_reply": "2024-02-03T18:53:56.333402Z"
    },
    "papermill": {
     "duration": 0.036728,
     "end_time": "2024-02-03T18:53:56.336956",
     "exception": false,
     "start_time": "2024-02-03T18:53:56.300228",
     "status": "completed"
    },
    "tags": []
   },
   "outputs": [
    {
     "name": "stdout",
     "output_type": "stream",
     "text": [
      "0.8833819241982507\n"
     ]
    }
   ],
   "source": [
    "#Stochastic Gradient Descent\n",
    "from sklearn.linear_model import SGDClassifier\n",
    "sgd = SGDClassifier(loss='hinge', penalty='l2', max_iter=1000, tol=1e-3, random_state=2020)\n",
    "sgd.fit(X_train, y_train)\n",
    "y_pred_sgd = sgd.predict(X_test)\n",
    "print(metrics.accuracy_score(y_test, y_pred_sgd))\n",
    "# The accuracy increased from 0.880466472303207 to 0.8833819241982507"
   ]
  },
  {
   "cell_type": "code",
   "execution_count": 27,
   "id": "ebabb6c2",
   "metadata": {
    "execution": {
     "iopub.execute_input": "2024-02-03T18:53:56.374174Z",
     "iopub.status.busy": "2024-02-03T18:53:56.373774Z",
     "iopub.status.idle": "2024-02-03T18:53:56.383098Z",
     "shell.execute_reply": "2024-02-03T18:53:56.381547Z"
    },
    "papermill": {
     "duration": 0.030453,
     "end_time": "2024-02-03T18:53:56.385255",
     "exception": false,
     "start_time": "2024-02-03T18:53:56.354802",
     "status": "completed"
    },
    "tags": []
   },
   "outputs": [
    {
     "name": "stdout",
     "output_type": "stream",
     "text": [
      "[[273  22]\n",
      " [ 24  24]]\n"
     ]
    }
   ],
   "source": [
    "from sklearn.metrics import confusion_matrix\n",
    "print(confusion_matrix(y_test, y_pred_new))\n",
    "# 273 “good” wines were correctly classified (True Positives)\n",
    "# 22 “good” wines were incorrectly classified as “not good” (False Negatives)\n",
    "# 24 “not good” wines were incorrectly classified as “good” (False Positives)\n",
    "# 24 “not good” wines were correctly classified (True Negatives)"
   ]
  },
  {
   "cell_type": "code",
   "execution_count": 28,
   "id": "b88baf62",
   "metadata": {
    "execution": {
     "iopub.execute_input": "2024-02-03T18:53:56.422419Z",
     "iopub.status.busy": "2024-02-03T18:53:56.422026Z",
     "iopub.status.idle": "2024-02-03T18:53:56.635884Z",
     "shell.execute_reply": "2024-02-03T18:53:56.634615Z"
    },
    "papermill": {
     "duration": 0.235201,
     "end_time": "2024-02-03T18:53:56.638346",
     "exception": false,
     "start_time": "2024-02-03T18:53:56.403145",
     "status": "completed"
    },
    "tags": []
   },
   "outputs": [
    {
     "name": "stdout",
     "output_type": "stream",
     "text": [
      "Cross-Validation Accuracy Scores [0.89519651 0.78165939 0.88209607 0.84210526 0.82894737]\n"
     ]
    }
   ],
   "source": [
    "from sklearn.model_selection import cross_val_score\n",
    "scores = cross_val_score(s_new, X, y, cv=5)\n",
    "print(\"Cross-Validation Accuracy Scores\", scores)\n",
    "# The cross-validation scores are quite consistent and relatively high, ranging from approximately 78.17% to 89.52%"
   ]
  },
  {
   "cell_type": "markdown",
   "id": "65195a54",
   "metadata": {
    "papermill": {
     "duration": 0.017413,
     "end_time": "2024-02-03T18:53:56.674083",
     "exception": false,
     "start_time": "2024-02-03T18:53:56.656670",
     "status": "completed"
    },
    "tags": []
   },
   "source": [
    "# Random Forest Classifier Model"
   ]
  },
  {
   "cell_type": "code",
   "execution_count": 29,
   "id": "a8c03e8f",
   "metadata": {
    "execution": {
     "iopub.execute_input": "2024-02-03T18:53:56.711263Z",
     "iopub.status.busy": "2024-02-03T18:53:56.710909Z",
     "iopub.status.idle": "2024-02-03T18:53:57.116770Z",
     "shell.execute_reply": "2024-02-03T18:53:57.115757Z"
    },
    "papermill": {
     "duration": 0.427236,
     "end_time": "2024-02-03T18:53:57.118984",
     "exception": false,
     "start_time": "2024-02-03T18:53:56.691748",
     "status": "completed"
    },
    "tags": []
   },
   "outputs": [
    {
     "data": {
      "text/html": [
       "<style>#sk-container-id-2 {color: black;background-color: white;}#sk-container-id-2 pre{padding: 0;}#sk-container-id-2 div.sk-toggleable {background-color: white;}#sk-container-id-2 label.sk-toggleable__label {cursor: pointer;display: block;width: 100%;margin-bottom: 0;padding: 0.3em;box-sizing: border-box;text-align: center;}#sk-container-id-2 label.sk-toggleable__label-arrow:before {content: \"▸\";float: left;margin-right: 0.25em;color: #696969;}#sk-container-id-2 label.sk-toggleable__label-arrow:hover:before {color: black;}#sk-container-id-2 div.sk-estimator:hover label.sk-toggleable__label-arrow:before {color: black;}#sk-container-id-2 div.sk-toggleable__content {max-height: 0;max-width: 0;overflow: hidden;text-align: left;background-color: #f0f8ff;}#sk-container-id-2 div.sk-toggleable__content pre {margin: 0.2em;color: black;border-radius: 0.25em;background-color: #f0f8ff;}#sk-container-id-2 input.sk-toggleable__control:checked~div.sk-toggleable__content {max-height: 200px;max-width: 100%;overflow: auto;}#sk-container-id-2 input.sk-toggleable__control:checked~label.sk-toggleable__label-arrow:before {content: \"▾\";}#sk-container-id-2 div.sk-estimator input.sk-toggleable__control:checked~label.sk-toggleable__label {background-color: #d4ebff;}#sk-container-id-2 div.sk-label input.sk-toggleable__control:checked~label.sk-toggleable__label {background-color: #d4ebff;}#sk-container-id-2 input.sk-hidden--visually {border: 0;clip: rect(1px 1px 1px 1px);clip: rect(1px, 1px, 1px, 1px);height: 1px;margin: -1px;overflow: hidden;padding: 0;position: absolute;width: 1px;}#sk-container-id-2 div.sk-estimator {font-family: monospace;background-color: #f0f8ff;border: 1px dotted black;border-radius: 0.25em;box-sizing: border-box;margin-bottom: 0.5em;}#sk-container-id-2 div.sk-estimator:hover {background-color: #d4ebff;}#sk-container-id-2 div.sk-parallel-item::after {content: \"\";width: 100%;border-bottom: 1px solid gray;flex-grow: 1;}#sk-container-id-2 div.sk-label:hover label.sk-toggleable__label {background-color: #d4ebff;}#sk-container-id-2 div.sk-serial::before {content: \"\";position: absolute;border-left: 1px solid gray;box-sizing: border-box;top: 0;bottom: 0;left: 50%;z-index: 0;}#sk-container-id-2 div.sk-serial {display: flex;flex-direction: column;align-items: center;background-color: white;padding-right: 0.2em;padding-left: 0.2em;position: relative;}#sk-container-id-2 div.sk-item {position: relative;z-index: 1;}#sk-container-id-2 div.sk-parallel {display: flex;align-items: stretch;justify-content: center;background-color: white;position: relative;}#sk-container-id-2 div.sk-item::before, #sk-container-id-2 div.sk-parallel-item::before {content: \"\";position: absolute;border-left: 1px solid gray;box-sizing: border-box;top: 0;bottom: 0;left: 50%;z-index: -1;}#sk-container-id-2 div.sk-parallel-item {display: flex;flex-direction: column;z-index: 1;position: relative;background-color: white;}#sk-container-id-2 div.sk-parallel-item:first-child::after {align-self: flex-end;width: 50%;}#sk-container-id-2 div.sk-parallel-item:last-child::after {align-self: flex-start;width: 50%;}#sk-container-id-2 div.sk-parallel-item:only-child::after {width: 0;}#sk-container-id-2 div.sk-dashed-wrapped {border: 1px dashed gray;margin: 0 0.4em 0.5em 0.4em;box-sizing: border-box;padding-bottom: 0.4em;background-color: white;}#sk-container-id-2 div.sk-label label {font-family: monospace;font-weight: bold;display: inline-block;line-height: 1.2em;}#sk-container-id-2 div.sk-label-container {text-align: center;}#sk-container-id-2 div.sk-container {/* jupyter's `normalize.less` sets `[hidden] { display: none; }` but bootstrap.min.css set `[hidden] { display: none !important; }` so we also need the `!important` here to be able to override the default hidden behavior on the sphinx rendered scikit-learn.org. See: https://github.com/scikit-learn/scikit-learn/issues/21755 */display: inline-block !important;position: relative;}#sk-container-id-2 div.sk-text-repr-fallback {display: none;}</style><div id=\"sk-container-id-2\" class=\"sk-top-container\"><div class=\"sk-text-repr-fallback\"><pre>RandomForestClassifier(random_state=2020)</pre><b>In a Jupyter environment, please rerun this cell to show the HTML representation or trust the notebook. <br />On GitHub, the HTML representation is unable to render, please try loading this page with nbviewer.org.</b></div><div class=\"sk-container\" hidden><div class=\"sk-item\"><div class=\"sk-estimator sk-toggleable\"><input class=\"sk-toggleable__control sk-hidden--visually\" id=\"sk-estimator-id-2\" type=\"checkbox\" checked><label for=\"sk-estimator-id-2\" class=\"sk-toggleable__label sk-toggleable__label-arrow\">RandomForestClassifier</label><div class=\"sk-toggleable__content\"><pre>RandomForestClassifier(random_state=2020)</pre></div></div></div></div></div>"
      ],
      "text/plain": [
       "RandomForestClassifier(random_state=2020)"
      ]
     },
     "execution_count": 29,
     "metadata": {},
     "output_type": "execute_result"
    }
   ],
   "source": [
    "# Fit the training data to model \n",
    "from sklearn.ensemble import RandomForestClassifier\n",
    "rf = RandomForestClassifier(random_state = 2020)\n",
    "rf.fit(X_train,y_train)"
   ]
  },
  {
   "cell_type": "code",
   "execution_count": 30,
   "id": "44a5bbf3",
   "metadata": {
    "execution": {
     "iopub.execute_input": "2024-02-03T18:53:57.158258Z",
     "iopub.status.busy": "2024-02-03T18:53:57.157493Z",
     "iopub.status.idle": "2024-02-03T18:53:57.175865Z",
     "shell.execute_reply": "2024-02-03T18:53:57.174645Z"
    },
    "papermill": {
     "duration": 0.040125,
     "end_time": "2024-02-03T18:53:57.177988",
     "exception": false,
     "start_time": "2024-02-03T18:53:57.137863",
     "status": "completed"
    },
    "tags": []
   },
   "outputs": [
    {
     "name": "stdout",
     "output_type": "stream",
     "text": [
      "Accuracy =  0.9154518950437318\n"
     ]
    }
   ],
   "source": [
    "# Predict the outcomes for test set and print accuracy score\n",
    "y_pred_rf = rf.predict(X_test)\n",
    "acc_rf = accuracy_score(y_test,y_pred_rf)\n",
    "print('Accuracy = ', acc_rf)\n",
    "# RFC accuracy = 0.9154518950437318"
   ]
  },
  {
   "cell_type": "code",
   "execution_count": 31,
   "id": "315016ac",
   "metadata": {
    "execution": {
     "iopub.execute_input": "2024-02-03T18:53:57.216062Z",
     "iopub.status.busy": "2024-02-03T18:53:57.215410Z",
     "iopub.status.idle": "2024-02-03T18:53:58.553851Z",
     "shell.execute_reply": "2024-02-03T18:53:58.552755Z"
    },
    "papermill": {
     "duration": 1.360032,
     "end_time": "2024-02-03T18:53:58.556093",
     "exception": false,
     "start_time": "2024-02-03T18:53:57.196061",
     "status": "completed"
    },
    "tags": []
   },
   "outputs": [
    {
     "name": "stdout",
     "output_type": "stream",
     "text": [
      "Cross Validation Score:  0.8801156822186471\n"
     ]
    }
   ],
   "source": [
    "scores = cross_val_score(rf, X, y, cv=5)\n",
    "print(\"Cross Validation Score: \",scores.mean())\n",
    "# Cross Validation Score:  0.8680466300940439"
   ]
  },
  {
   "cell_type": "code",
   "execution_count": 32,
   "id": "8033810f",
   "metadata": {
    "execution": {
     "iopub.execute_input": "2024-02-03T18:53:58.594379Z",
     "iopub.status.busy": "2024-02-03T18:53:58.593985Z",
     "iopub.status.idle": "2024-02-03T18:53:58.599089Z",
     "shell.execute_reply": "2024-02-03T18:53:58.598095Z"
    },
    "papermill": {
     "duration": 0.027237,
     "end_time": "2024-02-03T18:53:58.601860",
     "exception": false,
     "start_time": "2024-02-03T18:53:58.574623",
     "status": "completed"
    },
    "tags": []
   },
   "outputs": [
    {
     "name": "stdout",
     "output_type": "stream",
     "text": [
      "{'bootstrap': True, 'ccp_alpha': 0.0, 'class_weight': None, 'criterion': 'gini', 'max_depth': None, 'max_features': 'sqrt', 'max_leaf_nodes': None, 'max_samples': None, 'min_impurity_decrease': 0.0, 'min_samples_leaf': 1, 'min_samples_split': 2, 'min_weight_fraction_leaf': 0.0, 'n_estimators': 100, 'n_jobs': None, 'oob_score': False, 'random_state': 2020, 'verbose': 0, 'warm_start': False}\n"
     ]
    }
   ],
   "source": [
    "# Current parameters\n",
    "print(rf.get_params())"
   ]
  },
  {
   "cell_type": "code",
   "execution_count": 33,
   "id": "ef39b4fd",
   "metadata": {
    "execution": {
     "iopub.execute_input": "2024-02-03T18:53:58.640181Z",
     "iopub.status.busy": "2024-02-03T18:53:58.639280Z",
     "iopub.status.idle": "2024-02-03T18:55:27.589843Z",
     "shell.execute_reply": "2024-02-03T18:55:27.589078Z"
    },
    "papermill": {
     "duration": 88.99016,
     "end_time": "2024-02-03T18:55:27.609969",
     "exception": false,
     "start_time": "2024-02-03T18:53:58.619809",
     "status": "completed"
    },
    "tags": []
   },
   "outputs": [
    {
     "name": "stdout",
     "output_type": "stream",
     "text": [
      "{'n_estimators': 400, 'max_depth': 10}\n"
     ]
    }
   ],
   "source": [
    "# RandomizedSearchCV to try out a wide range of values for n_estimators and max depth.\n",
    "random_grid = {'max_depth': [1, 5, 10, 15],\n",
    "'n_estimators': [100,200,300,400,500,600]}\n",
    "rf_random = RandomizedSearchCV(rf,random_grid, n_iter = 50, cv = 5,random_state = 2020)\n",
    "rf_random.fit(X_train, y_train)\n",
    "print(rf_random.best_params_)"
   ]
  },
  {
   "cell_type": "code",
   "execution_count": 34,
   "id": "2c858f64",
   "metadata": {
    "execution": {
     "iopub.execute_input": "2024-02-03T18:55:27.649093Z",
     "iopub.status.busy": "2024-02-03T18:55:27.648383Z",
     "iopub.status.idle": "2024-02-03T18:58:21.683843Z",
     "shell.execute_reply": "2024-02-03T18:58:21.682530Z"
    },
    "papermill": {
     "duration": 174.072806,
     "end_time": "2024-02-03T18:58:21.701289",
     "exception": false,
     "start_time": "2024-02-03T18:55:27.628483",
     "status": "completed"
    },
    "tags": []
   },
   "outputs": [
    {
     "name": "stdout",
     "output_type": "stream",
     "text": [
      "{'max_depth': 80, 'n_estimators': 800}\n"
     ]
    }
   ],
   "source": [
    "# GridSearchCV for exhaustive search to find the best max_depth and n_estimators\n",
    "from sklearn.model_selection import GridSearchCV\n",
    "param_grid = {\n",
    "    'max_depth': [80, 90, 100, 110, 120],\n",
    "    'n_estimators': [400, 500, 600, 700, 800]\n",
    "}\n",
    "grid_search = GridSearchCV(estimator = rf, param_grid = param_grid, cv = 5)\n",
    "grid_search.fit(X_train, y_train)\n",
    "print(grid_search.best_params_)"
   ]
  },
  {
   "cell_type": "code",
   "execution_count": 35,
   "id": "4cf823eb",
   "metadata": {
    "execution": {
     "iopub.execute_input": "2024-02-03T18:58:21.740382Z",
     "iopub.status.busy": "2024-02-03T18:58:21.739517Z",
     "iopub.status.idle": "2024-02-03T18:58:23.754532Z",
     "shell.execute_reply": "2024-02-03T18:58:23.753543Z"
    },
    "papermill": {
     "duration": 2.03719,
     "end_time": "2024-02-03T18:58:23.756797",
     "exception": false,
     "start_time": "2024-02-03T18:58:21.719607",
     "status": "completed"
    },
    "tags": []
   },
   "outputs": [
    {
     "name": "stdout",
     "output_type": "stream",
     "text": [
      "Optimized RandomForestClassifier Accuracy =  0.9154518950437318\n"
     ]
    }
   ],
   "source": [
    "rf_opt = RandomForestClassifier(max_depth=80, n_estimators=800, random_state=2020)\n",
    "rf_opt.fit(X_train, y_train)\n",
    "y_pred_rf_opt = rf_opt.predict(X_test)\n",
    "print('Optimized RandomForestClassifier Accuracy = ', metrics.accuracy_score(y_test, y_pred_rf_opt))\n",
    "# Optimized RandomForestClassifier Accuracy =  0.9154518950437318"
   ]
  },
  {
   "cell_type": "code",
   "execution_count": 36,
   "id": "526bec96",
   "metadata": {
    "execution": {
     "iopub.execute_input": "2024-02-03T18:58:23.795918Z",
     "iopub.status.busy": "2024-02-03T18:58:23.795311Z",
     "iopub.status.idle": "2024-02-03T18:58:23.837227Z",
     "shell.execute_reply": "2024-02-03T18:58:23.836173Z"
    },
    "papermill": {
     "duration": 0.063902,
     "end_time": "2024-02-03T18:58:23.839398",
     "exception": false,
     "start_time": "2024-02-03T18:58:23.775496",
     "status": "completed"
    },
    "tags": []
   },
   "outputs": [
    {
     "name": "stdout",
     "output_type": "stream",
     "text": [
      "         count      mean       std      min       25%       50%       75%  \\\n",
      "quality                                                                     \n",
      "3          6.0  0.997682  0.002218  0.99476  0.996263  0.997565  0.999070   \n",
      "4         33.0  0.996669  0.001734  0.99340  0.995650  0.996640  0.997600   \n",
      "5        483.0  0.997073  0.001637  0.99256  0.996100  0.996920  0.997950   \n",
      "6        462.0  0.996610  0.002002  0.99007  0.995385  0.996520  0.997868   \n",
      "7        143.0  0.996071  0.002292  0.99064  0.994690  0.995680  0.997355   \n",
      "8         16.0  0.995553  0.002217  0.99170  0.994430  0.995580  0.997225   \n",
      "\n",
      "             max  \n",
      "quality           \n",
      "3        1.00080  \n",
      "4        1.00100  \n",
      "5        1.00315  \n",
      "6        1.00369  \n",
      "7        1.00320  \n",
      "8        0.99880  \n",
      "         count      mean       std  min   25%   50%     75%   max\n",
      "quality                                                          \n",
      "3          6.0  8.450000  2.032486  6.7  7.15  7.45   9.700  11.6\n",
      "4         33.0  7.809091  1.685668  4.6  6.70  7.60   8.500  12.5\n",
      "5        483.0  8.161077  1.557746  5.0  7.10  7.80   8.900  15.9\n",
      "6        462.0  8.317749  1.771585  5.0  7.00  7.90   9.275  14.3\n",
      "7        143.0  8.851049  2.105187  4.9  7.40  8.70  10.100  15.6\n",
      "8         16.0  8.806250  2.089168  5.0  7.35  8.85  10.400  12.6\n"
     ]
    }
   ],
   "source": [
    "# Calculate descriptive statistics for density and fixed acidity columns within each group of quality\n",
    "print(df.groupby('quality')['density'].describe())\n",
    "print(df.groupby('quality')['fixed acidity'].describe())"
   ]
  },
  {
   "cell_type": "code",
   "execution_count": 37,
   "id": "4cb8cf60",
   "metadata": {
    "execution": {
     "iopub.execute_input": "2024-02-03T18:58:23.878401Z",
     "iopub.status.busy": "2024-02-03T18:58:23.877762Z",
     "iopub.status.idle": "2024-02-03T18:58:23.885542Z",
     "shell.execute_reply": "2024-02-03T18:58:23.884290Z"
    },
    "papermill": {
     "duration": 0.030016,
     "end_time": "2024-02-03T18:58:23.888034",
     "exception": false,
     "start_time": "2024-02-03T18:58:23.858018",
     "status": "completed"
    },
    "tags": []
   },
   "outputs": [
    {
     "name": "stdout",
     "output_type": "stream",
     "text": [
      "density         -0.175208\n",
      "fixed acidity    0.121970\n",
      "quality          1.000000\n",
      "Name: quality, dtype: float64\n"
     ]
    }
   ],
   "source": [
    "# Calculate the correlation of density and fixed acidity with wine quality\n",
    "print(df[['density', 'fixed acidity', 'quality']].corr()['quality'])"
   ]
  },
  {
   "cell_type": "code",
   "execution_count": 38,
   "id": "69e5426a",
   "metadata": {
    "execution": {
     "iopub.execute_input": "2024-02-03T18:58:23.938981Z",
     "iopub.status.busy": "2024-02-03T18:58:23.938242Z",
     "iopub.status.idle": "2024-02-03T18:58:23.983075Z",
     "shell.execute_reply": "2024-02-03T18:58:23.981905Z"
    },
    "papermill": {
     "duration": 0.074254,
     "end_time": "2024-02-03T18:58:23.985343",
     "exception": false,
     "start_time": "2024-02-03T18:58:23.911089",
     "status": "completed"
    },
    "tags": []
   },
   "outputs": [
    {
     "name": "stdout",
     "output_type": "stream",
     "text": [
      "         count      mean       std      min       25%       50%       75%  \\\n",
      "quality                                                                     \n",
      "3          6.0  0.997682  0.002218  0.99476  0.996263  0.997565  0.999070   \n",
      "4         33.0  0.996669  0.001734  0.99340  0.995650  0.996640  0.997600   \n",
      "5        483.0  0.997073  0.001637  0.99256  0.996100  0.996920  0.997950   \n",
      "6        462.0  0.996610  0.002002  0.99007  0.995385  0.996520  0.997868   \n",
      "7        143.0  0.996071  0.002292  0.99064  0.994690  0.995680  0.997355   \n",
      "8         16.0  0.995553  0.002217  0.99170  0.994430  0.995580  0.997225   \n",
      "\n",
      "             max  \n",
      "quality           \n",
      "3        1.00080  \n",
      "4        1.00100  \n",
      "5        1.00315  \n",
      "6        1.00369  \n",
      "7        1.00320  \n",
      "8        0.99880  \n",
      "         count      mean       std   min     25%     50%      75%   max\n",
      "quality                                                                \n",
      "3          6.0  0.897500  0.367556  0.58  0.6475  0.8175  0.95375  1.58\n",
      "4         33.0  0.700000  0.216373  0.35  0.5200  0.6750  0.88000  1.09\n",
      "5        483.0  0.585280  0.168226  0.18  0.4600  0.5900  0.68000  1.33\n",
      "6        462.0  0.504957  0.159649  0.16  0.3900  0.5000  0.60875  1.04\n",
      "7        143.0  0.393671  0.133795  0.12  0.3000  0.3600  0.48000  0.84\n",
      "8         16.0  0.410000  0.147919  0.26  0.3275  0.3550  0.42000  0.85\n"
     ]
    }
   ],
   "source": [
    "# Calculate descriptive statistics for density and volatile acidity columns within each group of quality\n",
    "print(df.groupby('quality')['density'].describe())\n",
    "print(df.groupby('quality')['volatile acidity'].describe())"
   ]
  },
  {
   "cell_type": "code",
   "execution_count": 39,
   "id": "a3d96ae8",
   "metadata": {
    "execution": {
     "iopub.execute_input": "2024-02-03T18:58:24.025119Z",
     "iopub.status.busy": "2024-02-03T18:58:24.024307Z",
     "iopub.status.idle": "2024-02-03T18:58:24.032313Z",
     "shell.execute_reply": "2024-02-03T18:58:24.031164Z"
    },
    "papermill": {
     "duration": 0.029999,
     "end_time": "2024-02-03T18:58:24.034317",
     "exception": false,
     "start_time": "2024-02-03T18:58:24.004318",
     "status": "completed"
    },
    "tags": []
   },
   "outputs": [
    {
     "name": "stdout",
     "output_type": "stream",
     "text": [
      "density            -0.175208\n",
      "volatile acidity   -0.407394\n",
      "quality             1.000000\n",
      "Name: quality, dtype: float64\n"
     ]
    }
   ],
   "source": [
    "#Calculate the correlation of density and volatile acidity with wine quality\n",
    "print(df[['density', 'volatile acidity', 'quality']].corr()['quality'])"
   ]
  },
  {
   "cell_type": "code",
   "execution_count": 40,
   "id": "647a04be",
   "metadata": {
    "execution": {
     "iopub.execute_input": "2024-02-03T18:58:24.074069Z",
     "iopub.status.busy": "2024-02-03T18:58:24.073093Z",
     "iopub.status.idle": "2024-02-03T18:58:24.080727Z",
     "shell.execute_reply": "2024-02-03T18:58:24.079430Z"
    },
    "papermill": {
     "duration": 0.029547,
     "end_time": "2024-02-03T18:58:24.082676",
     "exception": false,
     "start_time": "2024-02-03T18:58:24.053129",
     "status": "completed"
    },
    "tags": []
   },
   "outputs": [
    {
     "name": "stdout",
     "output_type": "stream",
     "text": [
      "alcohol             0.484866\n",
      "volatile acidity   -0.407394\n",
      "sulphates           0.257710\n",
      "quality             1.000000\n",
      "Name: quality, dtype: float64\n"
     ]
    }
   ],
   "source": [
    "print(df[['alcohol', 'volatile acidity', 'sulphates','quality']].corr()['quality'])"
   ]
  },
  {
   "cell_type": "markdown",
   "id": "70bb6ff8",
   "metadata": {
    "papermill": {
     "duration": 0.018505,
     "end_time": "2024-02-03T18:58:24.120663",
     "exception": false,
     "start_time": "2024-02-03T18:58:24.102158",
     "status": "completed"
    },
    "tags": []
   },
   "source": [
    "# Final Model Decision"
   ]
  },
  {
   "cell_type": "code",
   "execution_count": 41,
   "id": "2acc929a",
   "metadata": {
    "execution": {
     "iopub.execute_input": "2024-02-03T18:58:24.160801Z",
     "iopub.status.busy": "2024-02-03T18:58:24.160423Z",
     "iopub.status.idle": "2024-02-03T18:58:24.164474Z",
     "shell.execute_reply": "2024-02-03T18:58:24.163482Z"
    },
    "papermill": {
     "duration": 0.026999,
     "end_time": "2024-02-03T18:58:24.166602",
     "exception": false,
     "start_time": "2024-02-03T18:58:24.139603",
     "status": "completed"
    },
    "tags": []
   },
   "outputs": [],
   "source": [
    "# The final accuracy on testing dataset of the SVC model is 0.883.\n",
    "# The final accuracy on testing dataset of the random forest model is 0.915.\n",
    "# Since the random forest model has the highest accuracy, I choose the random forest model as our final model to use."
   ]
  },
  {
   "cell_type": "markdown",
   "id": "32b4a050",
   "metadata": {
    "papermill": {
     "duration": 0.019284,
     "end_time": "2024-02-03T18:58:24.204796",
     "exception": false,
     "start_time": "2024-02-03T18:58:24.185512",
     "status": "completed"
    },
    "tags": []
   },
   "source": [
    "# Feature Importance"
   ]
  },
  {
   "cell_type": "code",
   "execution_count": 42,
   "id": "fa22d492",
   "metadata": {
    "execution": {
     "iopub.execute_input": "2024-02-03T18:58:24.244451Z",
     "iopub.status.busy": "2024-02-03T18:58:24.244073Z",
     "iopub.status.idle": "2024-02-03T18:58:24.265691Z",
     "shell.execute_reply": "2024-02-03T18:58:24.264893Z"
    },
    "papermill": {
     "duration": 0.043678,
     "end_time": "2024-02-03T18:58:24.267606",
     "exception": false,
     "start_time": "2024-02-03T18:58:24.223928",
     "status": "completed"
    },
    "tags": []
   },
   "outputs": [
    {
     "data": {
      "text/html": [
       "<div>\n",
       "<style scoped>\n",
       "    .dataframe tbody tr th:only-of-type {\n",
       "        vertical-align: middle;\n",
       "    }\n",
       "\n",
       "    .dataframe tbody tr th {\n",
       "        vertical-align: top;\n",
       "    }\n",
       "\n",
       "    .dataframe thead th {\n",
       "        text-align: right;\n",
       "    }\n",
       "</style>\n",
       "<table border=\"1\" class=\"dataframe\">\n",
       "  <thead>\n",
       "    <tr style=\"text-align: right;\">\n",
       "      <th></th>\n",
       "      <th>importance</th>\n",
       "    </tr>\n",
       "    <tr>\n",
       "      <th>feature</th>\n",
       "      <th></th>\n",
       "    </tr>\n",
       "  </thead>\n",
       "  <tbody>\n",
       "    <tr>\n",
       "      <th>alcohol</th>\n",
       "      <td>0.161317</td>\n",
       "    </tr>\n",
       "    <tr>\n",
       "      <th>volatile acidity</th>\n",
       "      <td>0.137760</td>\n",
       "    </tr>\n",
       "    <tr>\n",
       "      <th>sulphates</th>\n",
       "      <td>0.104186</td>\n",
       "    </tr>\n",
       "    <tr>\n",
       "      <th>density</th>\n",
       "      <td>0.092756</td>\n",
       "    </tr>\n",
       "    <tr>\n",
       "      <th>citric acid</th>\n",
       "      <td>0.092749</td>\n",
       "    </tr>\n",
       "  </tbody>\n",
       "</table>\n",
       "</div>"
      ],
      "text/plain": [
       "                  importance\n",
       "feature                     \n",
       "alcohol             0.161317\n",
       "volatile acidity    0.137760\n",
       "sulphates           0.104186\n",
       "density             0.092756\n",
       "citric acid         0.092749"
      ]
     },
     "execution_count": 42,
     "metadata": {},
     "output_type": "execute_result"
    }
   ],
   "source": [
    "# Let’s calculate the top 3 important features from the random forest model.\n",
    "imp_rf = pd.DataFrame(zip(X_train.columns, rf.feature_importances_),columns = [\"feature\", \"importance\"])\n",
    "imp_rf.set_index(\"feature\", inplace=True)\n",
    "imp_rf.sort_values(by = \"importance\", ascending = False, inplace = True)\n",
    "imp_rf.head()"
   ]
  },
  {
   "cell_type": "code",
   "execution_count": 43,
   "id": "84fafdcd",
   "metadata": {
    "execution": {
     "iopub.execute_input": "2024-02-03T18:58:24.308072Z",
     "iopub.status.busy": "2024-02-03T18:58:24.307099Z",
     "iopub.status.idle": "2024-02-03T18:58:24.311236Z",
     "shell.execute_reply": "2024-02-03T18:58:24.310529Z"
    },
    "papermill": {
     "duration": 0.026245,
     "end_time": "2024-02-03T18:58:24.312936",
     "exception": false,
     "start_time": "2024-02-03T18:58:24.286691",
     "status": "completed"
    },
    "tags": []
   },
   "outputs": [],
   "source": [
    "# Top 3 important properties are alcohol, volatile acidity, and sulphates. "
   ]
  },
  {
   "cell_type": "code",
   "execution_count": 44,
   "id": "6b5bc436",
   "metadata": {
    "execution": {
     "iopub.execute_input": "2024-02-03T18:58:24.353535Z",
     "iopub.status.busy": "2024-02-03T18:58:24.352245Z",
     "iopub.status.idle": "2024-02-03T18:58:24.625355Z",
     "shell.execute_reply": "2024-02-03T18:58:24.624123Z"
    },
    "papermill": {
     "duration": 0.295751,
     "end_time": "2024-02-03T18:58:24.627664",
     "exception": false,
     "start_time": "2024-02-03T18:58:24.331913",
     "status": "completed"
    },
    "tags": []
   },
   "outputs": [
    {
     "data": {
      "image/png": "[encoded data removed]",
      "text/plain": [
       "<Figure size 1000x1000 with 1 Axes>"
      ]
     },
     "metadata": {},
     "output_type": "display_data"
    }
   ],
   "source": [
    "# Horizontal bar graph to visualize the feature importances.\n",
    "imp_rf.plot.barh(figsize=(10,10))\n",
    "plt.show()"
   ]
  },
  {
   "cell_type": "markdown",
   "id": "11222b94",
   "metadata": {
    "papermill": {
     "duration": 0.019486,
     "end_time": "2024-02-03T18:58:24.666665",
     "exception": false,
     "start_time": "2024-02-03T18:58:24.647179",
     "status": "completed"
    },
    "tags": []
   },
   "source": [
    "# Conclusion"
   ]
  },
  {
   "cell_type": "code",
   "execution_count": 45,
   "id": "bdf09d19",
   "metadata": {
    "execution": {
     "iopub.execute_input": "2024-02-03T18:58:24.707624Z",
     "iopub.status.busy": "2024-02-03T18:58:24.707247Z",
     "iopub.status.idle": "2024-02-03T18:58:24.711891Z",
     "shell.execute_reply": "2024-02-03T18:58:24.710905Z"
    },
    "papermill": {
     "duration": 0.027679,
     "end_time": "2024-02-03T18:58:24.713687",
     "exception": false,
     "start_time": "2024-02-03T18:58:24.686008",
     "status": "completed"
    },
    "tags": []
   },
   "outputs": [],
   "source": [
    "# Let’s compare the difference in alcoholic levels for good wine and regular wine through average "
   ]
  },
  {
   "cell_type": "code",
   "execution_count": 46,
   "id": "c3e7198c",
   "metadata": {
    "execution": {
     "iopub.execute_input": "2024-02-03T18:58:24.755175Z",
     "iopub.status.busy": "2024-02-03T18:58:24.754808Z",
     "iopub.status.idle": "2024-02-03T18:58:24.764434Z",
     "shell.execute_reply": "2024-02-03T18:58:24.763229Z"
    },
    "papermill": {
     "duration": 0.032999,
     "end_time": "2024-02-03T18:58:24.766353",
     "exception": false,
     "start_time": "2024-02-03T18:58:24.733354",
     "status": "completed"
    },
    "tags": []
   },
   "outputs": [
    {
     "name": "stdout",
     "output_type": "stream",
     "text": [
      "11.528406708595389\n",
      "10.266581978319785\n"
     ]
    }
   ],
   "source": [
    "import numpy as np\n",
    "print(np.average(df[df[\"good wine\"] == \"yes\"].alcohol))\n",
    "print(np.average(df[df[\"good wine\"] == \"no\"].alcohol))\n",
    "# Thus, wines of good quality have higher levels of alcohol on average."
   ]
  },
  {
   "cell_type": "code",
   "execution_count": 47,
   "id": "138abbbf",
   "metadata": {
    "execution": {
     "iopub.execute_input": "2024-02-03T18:58:24.807550Z",
     "iopub.status.busy": "2024-02-03T18:58:24.807141Z",
     "iopub.status.idle": "2024-02-03T18:58:24.811795Z",
     "shell.execute_reply": "2024-02-03T18:58:24.810799Z"
    },
    "papermill": {
     "duration": 0.027813,
     "end_time": "2024-02-03T18:58:24.813863",
     "exception": false,
     "start_time": "2024-02-03T18:58:24.786050",
     "status": "completed"
    },
    "tags": []
   },
   "outputs": [],
   "source": [
    "# Compare the difference in sulphates for good wine and regular wine through average "
   ]
  },
  {
   "cell_type": "code",
   "execution_count": 48,
   "id": "c32e1079",
   "metadata": {
    "execution": {
     "iopub.execute_input": "2024-02-03T18:58:24.854665Z",
     "iopub.status.busy": "2024-02-03T18:58:24.854287Z",
     "iopub.status.idle": "2024-02-03T18:58:24.863086Z",
     "shell.execute_reply": "2024-02-03T18:58:24.861854Z"
    },
    "papermill": {
     "duration": 0.031497,
     "end_time": "2024-02-03T18:58:24.865072",
     "exception": false,
     "start_time": "2024-02-03T18:58:24.833575",
     "status": "completed"
    },
    "tags": []
   },
   "outputs": [
    {
     "name": "stdout",
     "output_type": "stream",
     "text": [
      "0.7458490566037737\n",
      "0.6434654471544716\n"
     ]
    }
   ],
   "source": [
    "print(np.average(df[df[\"good wine\"] == \"yes\"].sulphates))\n",
    "print(np.average(df[df[\"good wine\"] == \"no\"].sulphates))\n",
    "# Thus, wines of good quality have higher levels of sulphates on average."
   ]
  },
  {
   "cell_type": "code",
   "execution_count": 49,
   "id": "eb006661",
   "metadata": {
    "execution": {
     "iopub.execute_input": "2024-02-03T18:58:24.906249Z",
     "iopub.status.busy": "2024-02-03T18:58:24.905901Z",
     "iopub.status.idle": "2024-02-03T18:58:24.910143Z",
     "shell.execute_reply": "2024-02-03T18:58:24.909013Z"
    },
    "papermill": {
     "duration": 0.027504,
     "end_time": "2024-02-03T18:58:24.912203",
     "exception": false,
     "start_time": "2024-02-03T18:58:24.884699",
     "status": "completed"
    },
    "tags": []
   },
   "outputs": [],
   "source": [
    "# Compare the difference in volatile acidity for good wine and regular wine through average"
   ]
  },
  {
   "cell_type": "code",
   "execution_count": 50,
   "id": "46ebb8ec",
   "metadata": {
    "execution": {
     "iopub.execute_input": "2024-02-03T18:58:24.953229Z",
     "iopub.status.busy": "2024-02-03T18:58:24.952865Z",
     "iopub.status.idle": "2024-02-03T18:58:24.961193Z",
     "shell.execute_reply": "2024-02-03T18:58:24.959902Z"
    },
    "papermill": {
     "duration": 0.031103,
     "end_time": "2024-02-03T18:58:24.963271",
     "exception": false,
     "start_time": "2024-02-03T18:58:24.932168",
     "status": "completed"
    },
    "tags": []
   },
   "outputs": [
    {
     "name": "stdout",
     "output_type": "stream",
     "text": [
      "0.395314465408805\n",
      "0.5533180894308942\n"
     ]
    }
   ],
   "source": [
    "df_good = df[df[\"good wine\"] == \"yes\"]\n",
    "df_bad = df[df[\"good wine\"] == \"no\"]\n",
    "print(np.average(df_good[\"volatile acidity\"]))\n",
    "print(np.average(df_bad[\"volatile acidity\"]))\n",
    "# Thus, wines of good quality have lower levels of volatile acidity on average."
   ]
  },
  {
   "cell_type": "code",
   "execution_count": 51,
   "id": "37c0d1e8",
   "metadata": {
    "execution": {
     "iopub.execute_input": "2024-02-03T18:58:25.004069Z",
     "iopub.status.busy": "2024-02-03T18:58:25.003434Z",
     "iopub.status.idle": "2024-02-03T18:58:25.008002Z",
     "shell.execute_reply": "2024-02-03T18:58:25.006911Z"
    },
    "papermill": {
     "duration": 0.027256,
     "end_time": "2024-02-03T18:58:25.009945",
     "exception": false,
     "start_time": "2024-02-03T18:58:24.982689",
     "status": "completed"
    },
    "tags": []
   },
   "outputs": [],
   "source": [
    "# In conclusion, alcohol, volatile acidity, and sulphates are the top 3 important properties that can make a wine good. Good quality wines have higher levels of alcohol on average, lower levels of volatile acidity on average, and higher levels of sulphates on average."
   ]
  }
 ],
 "metadata": {
  "kaggle": {
   "accelerator": "none",
   "dataSources": [
    {
     "datasetId": 1866301,
     "sourceId": 3047725,
     "sourceType": "datasetVersion"
    },
    {
     "datasetId": 4395618,
     "sourceId": 7547447,
     "sourceType": "datasetVersion"
    }
   ],
   "dockerImageVersionId": 30646,
   "isGpuEnabled": false,
   "isInternetEnabled": false,
   "language": "python",
   "sourceType": "notebook"
  },
  "kernelspec": {
   "display_name": "Python 3",
   "language": "python",
   "name": "python3"
  },
  "language_info": {
   "codemirror_mode": {
    "name": "ipython",
    "version": 3
   },
   "file_extension": ".py",
   "mimetype": "text/x-python",
   "name": "python",
   "nbconvert_exporter": "python",
   "pygments_lexer": "ipython3",
   "version": "3.10.13"
  },
  "papermill": {
   "default_parameters": {},
   "duration": 311.564717,
   "end_time": "2024-02-03T18:58:25.750369",
   "environment_variables": {},
   "exception": null,
   "input_path": "__notebook__.ipynb",
   "output_path": "__notebook__.ipynb",
   "parameters": {},
   "start_time": "2024-02-03T18:53:14.185652",
   "version": "2.5.0"
  }
 },
 "nbformat": 4,
 "nbformat_minor": 5
}
